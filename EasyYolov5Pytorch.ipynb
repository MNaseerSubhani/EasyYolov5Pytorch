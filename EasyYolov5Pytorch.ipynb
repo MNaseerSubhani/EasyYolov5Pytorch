{
  "nbformat": 4,
  "nbformat_minor": 0,
  "metadata": {
    "accelerator": "GPU",
    "colab": {
      "name": "EasyYolov5Pytorch.ipynb",
      "provenance": [],
      "collapsed_sections": []
    },
    "kernelspec": {
      "display_name": "Python 3",
      "name": "python3"
    },
    "language_info": {
      "name": "python"
    }
  },
  "cells": [
    {
      "cell_type": "markdown",
      "metadata": {
        "id": "VUVjvJ-DnZG1"
      },
      "source": [
        "This notebook consist of yolov5 on custom data with difference inferences, "
      ]
    },
    {
      "cell_type": "markdown",
      "metadata": {
        "id": "auDOwvcTnxQ1"
      },
      "source": [
        "#Setup"
      ]
    },
    {
      "cell_type": "code",
      "metadata": {
        "id": "Qr9zaO8lpDzG"
      },
      "source": [
        "from google.colab import drive\n",
        "drive.mount('/content/drive')"
      ],
      "execution_count": null,
      "outputs": []
    },
    {
      "cell_type": "code",
      "metadata": {
        "id": "rn7jMOmf1vwo"
      },
      "source": [
        "%cd /content/drive/MyDrive"
      ],
      "execution_count": null,
      "outputs": []
    },
    {
      "cell_type": "code",
      "metadata": {
        "id": "bTjwgBIx1zeH"
      },
      "source": [
        "!git clone https://github.com/MNaseerSubhani/EasyYolov5Pytorch.git"
      ],
      "execution_count": null,
      "outputs": []
    },
    {
      "cell_type": "code",
      "metadata": {
        "id": "x9pVNyzjnvnG"
      },
      "source": [
        "%cd EasyYolov5Pytorch"
      ],
      "execution_count": null,
      "outputs": []
    },
    {
      "cell_type": "code",
      "metadata": {
        "id": "MWrWKAKi13g_"
      },
      "source": [
        "!git submodule init\n",
        "!git submodule update"
      ],
      "execution_count": null,
      "outputs": []
    },
    {
      "cell_type": "code",
      "metadata": {
        "id": "ueLKMTJA15pD"
      },
      "source": [
        "%cd yolov5"
      ],
      "execution_count": null,
      "outputs": []
    },
    {
      "cell_type": "code",
      "metadata": {
        "id": "bxC67oLi0Phf"
      },
      "source": [
        "!pip install -r requirements.txt  # install"
      ],
      "execution_count": null,
      "outputs": []
    },
    {
      "cell_type": "code",
      "metadata": {
        "id": "zGRbSfXB17wU"
      },
      "source": [
        "import torch\n",
        "from IPython.display import Image, clear_output  # to display images\n",
        "clear_output()\n",
        "print(f\"Setup complete. Using torch {torch.__version__} ({torch.cuda.get_device_properties(0).name if torch.cuda.is_available() else 'CPU'})\")"
      ],
      "execution_count": null,
      "outputs": []
    },
    {
      "cell_type": "markdown",
      "metadata": {
        "id": "9KIr_xuUnVyS"
      },
      "source": [
        "###  <font color='yellow'>Yolo Instance Init</font> : <font color='red'>RunFirstTime</font>  when creating new Instance"
      ]
    },
    {
      "cell_type": "code",
      "metadata": {
        "colab": {
          "base_uri": "https://localhost:8080/"
        },
        "id": "wi4kWJuklFdg",
        "outputId": "97b7bba4-d31d-471d-f6be-ac8423cf2b1b"
      },
      "source": [
        "%cd .. "
      ],
      "execution_count": 59,
      "outputs": [
        {
          "output_type": "stream",
          "text": [
            "/content/drive/My Drive/EasyYolov5Pytorch\n"
          ],
          "name": "stdout"
        }
      ]
    },
    {
      "cell_type": "code",
      "metadata": {
        "id": "u6lJvkHe57vd"
      },
      "source": [
        "instance_name = \"sugar_bag\"     # Put any name of the Instance \n",
        "#set hyperparameters\n",
        "num_of_classes = 1                  # Total number of classes       \n",
        "size = 416                         # size of input image\n",
        "batch = 32                          # batch size\n",
        "model = 'yolov5s'                          # \"yolov5s\" or \"yolov5m\" or \"yolov5x\" or \"yolov5l\""
      ],
      "execution_count": 60,
      "outputs": []
    },
    {
      "cell_type": "code",
      "metadata": {
        "id": "qBw3XKRZqL_w"
      },
      "source": [
        "import os\n",
        "if not os.path.exists(instance_name):\n",
        "  os.mkdir(instance_name)"
      ],
      "execution_count": 61,
      "outputs": []
    },
    {
      "cell_type": "markdown",
      "metadata": {
        "id": "ZPAowMlprRC8"
      },
      "source": [
        "#Create dataset.yaml"
      ]
    },
    {
      "cell_type": "code",
      "metadata": {
        "id": "kk4jVkbkqQOg"
      },
      "source": [
        "%cd {instance_name}\n",
        "with open(\"dataset.yaml\", \"w\") as f:   \n",
        "    f.write(f\"\"\"path: ../{instance_name}/data  # dataset root dir\n",
        "train: train/images  # train images (relative to 'path') 128 images\n",
        "val: test/images  # val images (relative to 'path') 128 images\n",
        "test:  # test images (optional)\\n\\n\n",
        "nc: {num_of_classes}  # number of classes\\n\\n\n",
        "names: [ 'bag' ]\"\"\")\n",
        "%cd .."
      ],
      "execution_count": null,
      "outputs": []
    },
    {
      "cell_type": "markdown",
      "metadata": {
        "id": "xwixKjSd1PLw"
      },
      "source": [
        "###  <font color='red'>NOTE: At this stage add dataset to the instance folder as structured below</font>\n",
        "\n",
        "--data\n",
        "\n",
        "  ----------- train\n",
        "\n",
        "  -------------- images\n",
        "  \n",
        "  -------------- labels\n",
        "\n",
        "  ----------- test"
      ]
    },
    {
      "cell_type": "markdown",
      "metadata": {
        "id": "lt1KFzAY1v1u"
      },
      "source": [
        "###Copy and Edit model .yaml file : <font color='red'>RunFirstTime</font>  when creating new Instance"
      ]
    },
    {
      "cell_type": "code",
      "metadata": {
        "colab": {
          "base_uri": "https://localhost:8080/",
          "height": 35
        },
        "id": "K6MtJ2qCvyOf",
        "outputId": "091e97b7-76d4-4669-a1e7-15474c225666"
      },
      "source": [
        "from shutil import copyfile\n",
        "copyfile(f'custom_models/{model}.yaml', f'{instance_name}/{model}.yaml')"
      ],
      "execution_count": 63,
      "outputs": [
        {
          "output_type": "execute_result",
          "data": {
            "application/vnd.google.colaboratory.intrinsic+json": {
              "type": "string"
            },
            "text/plain": [
              "'sugar_bag/yolov5s.yaml'"
            ]
          },
          "metadata": {
            "tags": []
          },
          "execution_count": 63
        }
      ]
    },
    {
      "cell_type": "code",
      "metadata": {
        "colab": {
          "base_uri": "https://localhost:8080/"
        },
        "id": "i0ZDtaFx3It2",
        "outputId": "1c72da1e-b522-4e18-be89-d1e8702b9695"
      },
      "source": [
        "%cd {instance_name}\n",
        "f_nm = f'{model}.yaml'\n",
        "!sed -i 's/nc: 3/nc: $num_of_classes/' {f_nm}\n",
        "%cd .."
      ],
      "execution_count": 64,
      "outputs": [
        {
          "output_type": "stream",
          "text": [
            "/content/drive/My Drive/EasyYolov5Pytorch/sugar_bag\n",
            "/content/drive/My Drive/EasyYolov5Pytorch\n"
          ],
          "name": "stdout"
        }
      ]
    },
    {
      "cell_type": "markdown",
      "metadata": {
        "id": "dexqUKaB9acL"
      },
      "source": [
        "#Train"
      ]
    },
    {
      "cell_type": "code",
      "metadata": {
        "colab": {
          "base_uri": "https://localhost:8080/"
        },
        "id": "T0Rs4yuG6p04",
        "outputId": "6bdb81ec-523d-4233-b284-b08a256eb6fd"
      },
      "source": [
        "%cd yolov5"
      ],
      "execution_count": 65,
      "outputs": [
        {
          "output_type": "stream",
          "text": [
            "/content/drive/My Drive/EasyYolov5Pytorch/yolov5\n"
          ],
          "name": "stdout"
        }
      ]
    },
    {
      "cell_type": "markdown",
      "metadata": {
        "id": "Oq-kBVMx-M7U"
      },
      "source": [
        "###download pretrained model "
      ]
    },
    {
      "cell_type": "code",
      "metadata": {
        "id": "NYqZPEdA94S4"
      },
      "source": [
        "!wget https://github.com/ultralytics/yolov5/releases/download/v5.0/{model}.pt\n"
      ],
      "execution_count": null,
      "outputs": []
    },
    {
      "cell_type": "code",
      "metadata": {
        "colab": {
          "base_uri": "https://localhost:8080/"
        },
        "id": "8aSerkcs45o_",
        "outputId": "982636ac-e834-4b14-b945-56249084d61e"
      },
      "source": [
        "%pip install -q wandb\n",
        "import wandb\n",
        "wandb.login()"
      ],
      "execution_count": 68,
      "outputs": [
        {
          "output_type": "execute_result",
          "data": {
            "text/plain": [
              "False"
            ]
          },
          "metadata": {
            "tags": []
          },
          "execution_count": 68
        }
      ]
    },
    {
      "cell_type": "code",
      "metadata": {
        "id": "WvJrLbdU-Ftz"
      },
      "source": [
        "# Train YOLOv5s on COCO128 for 5 epochs\n",
        "!python3 train.py --img 320 --batch {batch} --epochs 200 --data ../{instance_name}/dataset.yaml  --weights {model}.pt\n",
        "\n"
      ],
      "execution_count": null,
      "outputs": []
    },
    {
      "cell_type": "code",
      "metadata": {
        "id": "eBM9GHR1VBi5"
      },
      "source": [
        "import shutil\n",
        "shutil.move(\"runs/train/exp/weights/best.pt\", f\"../{instance_name}/best.pt\")"
      ],
      "execution_count": null,
      "outputs": []
    },
    {
      "cell_type": "markdown",
      "metadata": {
        "id": "vQiH2o_fU1u2"
      },
      "source": [
        "#Inference"
      ]
    },
    {
      "cell_type": "code",
      "metadata": {
        "id": "ZRbLP5BuPKsd"
      },
      "source": [
        "fn = 'test.jpg'\n",
        "!python3 detect.py --weights ../{instance_name}/best.pt --img 640 --conf 0.25 --source ../{instance_name}/data/test/images/{fn}\n",
        "Image(filename=f'runs/detect/exp5/{fn}', width=600)"
      ],
      "execution_count": null,
      "outputs": []
    }
  ]
}